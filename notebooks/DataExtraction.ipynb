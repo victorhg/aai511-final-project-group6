{
 "cells": [
  {
   "cell_type": "markdown",
   "id": "a0b7570b",
   "metadata": {},
   "source": [
    "# Data Processing and Feature Extraction\n",
    "\n",
    "The objective is to organize the data to be used on the model training\n",
    "\n",
    "Overview of the process:\n",
    "\n",
    "1. Load al Files located on the folders by artist\n",
    "2. Processs Midi files (Train and Test):\n",
    "    - Extract metadata from each song\n",
    "        - Generate a Feature Vector with feature extraction\n",
    "        - include general information\n",
    "    - Split midi file into 30-second chunks\n",
    "        - Trim each chunk \n",
    "        - \"Stretch\" chunks that fall just short of 30 seconds \n",
    "    - Write out chunks to intermediate folders, with an iter_id for each\n",
    "    - Create a DataFrame with metadata for easy access\n",
    "3. Load chunks into DataFrame (Train and Test)\n",
    "    - Read each chunk from disk\n",
    "        - Generate information tensor using mid_acess\n",
    "    - Store each midi file object in a Pandas DataFrame column"
   ]
  },
  {
   "cell_type": "markdown",
   "id": "5401cbbc",
   "metadata": {},
   "source": []
  },
  {
   "cell_type": "code",
   "execution_count": 10,
   "id": "d3064270",
   "metadata": {},
   "outputs": [],
   "source": [
    "import os\n",
    "import midi_access as midi\n",
    "import seaborn as sns\n",
    "import matplotlib.pyplot as plt\n",
    "import numpy as np\n",
    "from collections import Counter\n",
    "import pandas as pd\n",
    "\n",
    "sns.set_theme(style=\"whitegrid\")\n",
    "\n",
    "BASE_MIDI_DIR = './dataset/all_files/'  "
   ]
  },
  {
   "cell_type": "code",
   "execution_count": 11,
   "id": "d662bc2b",
   "metadata": {},
   "outputs": [],
   "source": [
    "# Load all songs by artist\n",
    "artist_midi_dict = midi.load_midi_files_by_artist(BASE_MIDI_DIR)"
   ]
  },
  {
   "cell_type": "markdown",
   "id": "65bde5a1",
   "metadata": {},
   "source": [
    "## FEATURE EXTRACTION\n",
    "\n",
    "Given the mid information, extract information related to the file"
   ]
  },
  {
   "cell_type": "code",
   "execution_count": 12,
   "id": "d9e57211",
   "metadata": {},
   "outputs": [],
   "source": [
    "# FEATURE EXTRACTION FUNCTION\n",
    "def generate_feature_vector(midi_data, top_chords):\n",
    "    pitch_hist = midi.get_pitch_class_histogram(midi_data)\n",
    "    ioi_hist = midi.get_ioi_histogram(midi_data)\n",
    "    chord_hist = midi.get_chord_histogram(midi_data, top_chords)\n",
    "    return np.concatenate([pitch_hist, ioi_hist, chord_hist])"
   ]
  },
  {
   "cell_type": "markdown",
   "id": "4ad2de7d",
   "metadata": {},
   "source": [
    "## Processing chunks and saving\n",
    "\n",
    "This will run through all the files and:\n",
    "- generate chunks and save a chunks for later access and reference. \n",
    "For e"
   ]
  },
  {
   "cell_type": "code",
   "execution_count": null,
   "id": "b27ded52",
   "metadata": {},
   "outputs": [],
   "source": [
    "def process_and_save_chunks_with_features(artist, song_idx, midi_data, output_dir, top_chords):\n",
    "    chunks = midi.split_midi_into_chunks(midi_data)\n",
    "    chunk_features = []\n",
    "    for i, chunk in enumerate(chunks):\n",
    "        # Generate filename and save chunk\n",
    "        chunk_filename = f\"{artist}_song{song_idx}_chunk{i}.mid\"\n",
    "        chunk_path = os.path.join(output_dir, chunk_filename)\n",
    "        chunk.write(chunk_path)\n",
    "        \n",
    "        # Extract features for this chunk\n",
    "        feature_vector = generate_feature_vector(chunk, top_chords)\n",
    "        chunk_features.append({\n",
    "            'artist': artist,\n",
    "            'song_idx': song_idx,\n",
    "            'chunk_idx': i,\n",
    "            'chunk_path': chunk_path,\n",
    "            'features': feature_vector\n",
    "        })\n",
    "    return chunk_features\n"
   ]
  },
  {
   "cell_type": "markdown",
   "id": "09489e25",
   "metadata": {},
   "source": [
    "\n",
    "> NOTICE: this will first remove the contents of intermediate_chunks folder. "
   ]
  },
  {
   "cell_type": "code",
   "execution_count": 17,
   "id": "c5695ea8",
   "metadata": {},
   "outputs": [
    {
     "name": "stdout",
     "output_type": "stream",
     "text": [
      "Removing existing output directory: ./dataset/intermediate_chunks\n",
      "Creating output directory: ./dataset/intermediate_chunks\n",
      "Processing artist: mozart with 49 songs\n"
     ]
    },
    {
     "name": "stderr",
     "output_type": "stream",
     "text": [
      "/opt/homebrew/anaconda3/envs/masters/lib/python3.12/site-packages/numpy/lib/_histograms_impl.py:897: RuntimeWarning: invalid value encountered in divide\n",
      "  return n / db / n.sum(), bin_edges\n"
     ]
    },
    {
     "name": "stdout",
     "output_type": "stream",
     "text": [
      "Processing artist: chopin with 49 songs\n",
      "Processing artist: handel with 49 songs\n",
      "Processing artist: byrd with 50 songs\n",
      "Processing artist: schumann with 44 songs\n",
      "Processing artist: mendelssohn with 49 songs\n",
      "Processing artist: hummel with 50 songs\n",
      "Processing artist: bach with 50 songs\n",
      "Processing artist: bartok with 49 songs\n",
      "Total chunks processed: 4946\n",
      "Saving chunk features to: ./dataset/intermediate_chunks/./songs_by_artist_chunk_features.csv\n"
     ]
    },
    {
     "data": {
      "text/html": [
       "<div>\n",
       "<style scoped>\n",
       "    .dataframe tbody tr th:only-of-type {\n",
       "        vertical-align: middle;\n",
       "    }\n",
       "\n",
       "    .dataframe tbody tr th {\n",
       "        vertical-align: top;\n",
       "    }\n",
       "\n",
       "    .dataframe thead th {\n",
       "        text-align: right;\n",
       "    }\n",
       "</style>\n",
       "<table border=\"1\" class=\"dataframe\">\n",
       "  <thead>\n",
       "    <tr style=\"text-align: right;\">\n",
       "      <th></th>\n",
       "      <th>artist</th>\n",
       "      <th>song_idx</th>\n",
       "      <th>chunk_idx</th>\n",
       "      <th>chunk_path</th>\n",
       "      <th>features</th>\n",
       "    </tr>\n",
       "  </thead>\n",
       "  <tbody>\n",
       "    <tr>\n",
       "      <th>0</th>\n",
       "      <td>mozart</td>\n",
       "      <td>0</td>\n",
       "      <td>0</td>\n",
       "      <td>./dataset/intermediate_chunks/mozart_song0_chu...</td>\n",
       "      <td>[0.08982035928143713, 0.0, 0.16467065868263472...</td>\n",
       "    </tr>\n",
       "    <tr>\n",
       "      <th>1</th>\n",
       "      <td>mozart</td>\n",
       "      <td>0</td>\n",
       "      <td>1</td>\n",
       "      <td>./dataset/intermediate_chunks/mozart_song0_chu...</td>\n",
       "      <td>[0.16722408026755853, 0.0, 0.11371237458193979...</td>\n",
       "    </tr>\n",
       "    <tr>\n",
       "      <th>2</th>\n",
       "      <td>mozart</td>\n",
       "      <td>0</td>\n",
       "      <td>2</td>\n",
       "      <td>./dataset/intermediate_chunks/mozart_song0_chu...</td>\n",
       "      <td>[0.07913669064748201, 0.0035971223021582736, 0...</td>\n",
       "    </tr>\n",
       "    <tr>\n",
       "      <th>3</th>\n",
       "      <td>mozart</td>\n",
       "      <td>0</td>\n",
       "      <td>3</td>\n",
       "      <td>./dataset/intermediate_chunks/mozart_song0_chu...</td>\n",
       "      <td>[0.12096774193548387, 0.004032258064516129, 0....</td>\n",
       "    </tr>\n",
       "    <tr>\n",
       "      <th>4</th>\n",
       "      <td>mozart</td>\n",
       "      <td>0</td>\n",
       "      <td>4</td>\n",
       "      <td>./dataset/intermediate_chunks/mozart_song0_chu...</td>\n",
       "      <td>[0.1994535519125683, 0.03278688524590164, 0.06...</td>\n",
       "    </tr>\n",
       "  </tbody>\n",
       "</table>\n",
       "</div>"
      ],
      "text/plain": [
       "   artist  song_idx  chunk_idx  \\\n",
       "0  mozart         0          0   \n",
       "1  mozart         0          1   \n",
       "2  mozart         0          2   \n",
       "3  mozart         0          3   \n",
       "4  mozart         0          4   \n",
       "\n",
       "                                          chunk_path  \\\n",
       "0  ./dataset/intermediate_chunks/mozart_song0_chu...   \n",
       "1  ./dataset/intermediate_chunks/mozart_song0_chu...   \n",
       "2  ./dataset/intermediate_chunks/mozart_song0_chu...   \n",
       "3  ./dataset/intermediate_chunks/mozart_song0_chu...   \n",
       "4  ./dataset/intermediate_chunks/mozart_song0_chu...   \n",
       "\n",
       "                                            features  \n",
       "0  [0.08982035928143713, 0.0, 0.16467065868263472...  \n",
       "1  [0.16722408026755853, 0.0, 0.11371237458193979...  \n",
       "2  [0.07913669064748201, 0.0035971223021582736, 0...  \n",
       "3  [0.12096774193548387, 0.004032258064516129, 0....  \n",
       "4  [0.1994535519125683, 0.03278688524590164, 0.06...  "
      ]
     },
     "execution_count": 17,
     "metadata": {},
     "output_type": "execute_result"
    }
   ],
   "source": [
    "import shutil\n",
    "\n",
    "all_chunk_features = []\n",
    "output_dir = './dataset/intermediate_chunks'\n",
    "\n",
    "# Clean up the output directory if it exists\n",
    "if os.path.exists(output_dir):\n",
    "    print(f\"Removing existing output directory: {output_dir}\")  \n",
    "    shutil.rmtree(output_dir)\n",
    "\n",
    "# Create the output directory\n",
    "print(f\"Creating output directory: {output_dir}\")\n",
    "os.makedirs(output_dir, exist_ok=True)\n",
    "top_chords = midi.get_top_chords(artist_midi_dict, top_n=20)\n",
    "\n",
    "# Process each artist's MIDI files and extract features\n",
    "for artist, song_list in artist_midi_dict.items():\n",
    "    print(f\"Processing artist: {artist} with {len(song_list)} songs\")\n",
    "    for idx, midi_data in enumerate(song_list):\n",
    "        chunk_features = process_and_save_chunks_with_features(artist, idx, midi_data, output_dir, top_chords)\n",
    "        all_chunk_features.extend(chunk_features)\n",
    "\n",
    "\n",
    "df_chunks = pd.DataFrame(all_chunk_features)\n",
    "print(f\"Total chunks processed: {len(df_chunks)}\")\n",
    "print(f\"Saving chunk features to: {os.path.join(output_dir, './songs_by_artist_chunk_features.csv')}\")\n",
    "\n",
    "df_chunks.to_csv(os.path.join(output_dir, './songs_by_artist_chunk_features.csv'), index=False)\n",
    "\n",
    "df_chunks.head()"
   ]
  },
  {
   "cell_type": "markdown",
   "id": "fb024b22",
   "metadata": {},
   "source": [
    "Present all "
   ]
  },
  {
   "cell_type": "code",
   "execution_count": 18,
   "id": "02abb9c3",
   "metadata": {},
   "outputs": [
    {
     "name": "stdout",
     "output_type": "stream",
     "text": [
      "<class 'pandas.core.frame.DataFrame'>\n",
      "RangeIndex: 4946 entries, 0 to 4945\n",
      "Data columns (total 5 columns):\n",
      " #   Column      Non-Null Count  Dtype \n",
      "---  ------      --------------  ----- \n",
      " 0   artist      4946 non-null   object\n",
      " 1   song_idx    4946 non-null   int64 \n",
      " 2   chunk_idx   4946 non-null   int64 \n",
      " 3   chunk_path  4946 non-null   object\n",
      " 4   features    4946 non-null   object\n",
      "dtypes: int64(2), object(3)\n",
      "memory usage: 193.3+ KB\n"
     ]
    },
    {
     "data": {
      "image/png": "[encoded data removed]",
      "text/plain": [
       "<Figure size 1400x600 with 1 Axes>"
      ]
     },
     "metadata": {},
     "output_type": "display_data"
    }
   ],
   "source": [
    "df_chunks.info()\n",
    "\n",
    "chunk_counts = df_chunks['artist'].value_counts()\n",
    "\n",
    "plt.figure(figsize=(14, 6))\n",
    "plt.bar(chunk_counts.index, chunk_counts.values)\n",
    "plt.xticks(rotation=90)\n",
    "plt.xlabel('Artist')\n",
    "plt.ylabel('Number of Chunks')\n",
    "plt.title('Number of Chunks per Artist')\n",
    "plt.tight_layout()\n",
    "plt.show()"
   ]
  },
  {
   "cell_type": "code",
   "execution_count": null,
   "id": "1edc7abc",
   "metadata": {},
   "outputs": [],
   "source": []
  }
 ],
 "metadata": {
  "kernelspec": {
   "display_name": "masters",
   "language": "python",
   "name": "python3"
  },
  "language_info": {
   "codemirror_mode": {
    "name": "ipython",
    "version": 3
   },
   "file_extension": ".py",
   "mimetype": "text/x-python",
   "name": "python",
   "nbconvert_exporter": "python",
   "pygments_lexer": "ipython3",
   "version": "3.12.11"
  }
 },
 "nbformat": 4,
 "nbformat_minor": 5
}
